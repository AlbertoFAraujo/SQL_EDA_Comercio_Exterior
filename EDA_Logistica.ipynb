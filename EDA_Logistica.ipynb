{
    "metadata": {
        "kernelspec": {
            "name": "SQL",
            "display_name": "SQL",
            "language": "sql"
        },
        "language_info": {
            "name": "sql",
            "version": ""
        }
    },
    "nbformat_minor": 2,
    "nbformat": 4,
    "cells": [
        {
            "cell_type": "markdown",
            "source": [
                ""
            ],
            "metadata": {
                "azdata_cell_guid": "6f43af0d-a2eb-42a5-b1e0-8a5f6c725530"
            }
        },
        {
            "cell_type": "markdown",
            "source": [
                "# Exploração de dados Setor Logístico\n",
                "\n",
                "A empresa Logit do ramo de Logística, busca otimizar a gestão de seu fluxo de caixa e obter uma visão abrangente de suas receitas e despesas para um planejamento financeiro mais eficaz. Portanto, é solicitado a resposta de alguns indicadores para uma análise detalhada e precisa sobre o cenário dos negócios, auxiliando nas tomadas de decisões estratégicas e no gerenciamente eficiente de recursos.\n",
                "\n",
                "O objetivo desta análise exploratória é responder as perguntas de negócios para posteriomente servir como base para o painel de visualização (Dashboard).\n",
                "\n",
                "1. **Análise do fluxo de caixa:** Monitorar e comparar receitas e despesas ao longo do tempo, identificando períodos de maior variação e possibilitando o planejamento de estratégias de contenção ou investimento;\n",
                "2. **Saldo bancário por instituição:** Verificar o saldo distribuído entre os bancos para otimizar a distribuição de recursos e diminuir custos bancários;\n",
                "3. **Categorias de movimentações:** Entender a natureza das transações para identificar áreas de maior custo e verificar a contribuição de cada categoria para as receitas e despesas;\n",
                "4. **Receitas por serviços:** Analisar os serviços que trazem mais receita para identificar oportunidades de investimento e crescimento;\n",
                "5. **Receita total:** Medir o total de receitas geradas durante o período analisada para entender a lucratividade;\n",
                "6. **Despesas totais:** Quantificar as despesas totais para identificar áreas de redução de custos;\n",
                "7. **Saldo financeiro:** Comparar receita e despesa para obter o saldo final disponível;\n",
                "8. Movimentações financeiras: Classificar e sumarizar os diferentes tipos de movimentações para identificar padrões e oportunidade de melhoria;\n",
                "9. **Saldo por banco:** Verificar a distribuição do saldo entre os bancos para otimizar as operações financeiras.\n",
                "\n",
                "Base de dados: Dados sintéticos disponibilizados no Power Bi Discovery (Karine Lago e Letícia S.)"
            ],
            "metadata": {
                "azdata_cell_guid": "872bd64c-3950-48c6-aaaa-14825121d2e3"
            },
            "attachments": {}
        }
    ]
}